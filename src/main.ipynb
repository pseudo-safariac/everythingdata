{
 "cells": [
  {
   "cell_type": "code",
   "execution_count": 3,
   "metadata": {},
   "outputs": [],
   "source": [
    "from pathlib import Path\n",
    "import pandas as pd\n",
    "import numpy as np\n",
    "import matplotlib.pyplot as plt\n",
    "import seaborn as sns"
   ]
  },
  {
   "cell_type": "code",
   "execution_count": 4,
   "metadata": {},
   "outputs": [],
   "source": [
    "# FILE_PATH: Path = Path.cwd().parent / \"data\" / \"Walmart_customer_purchases.csv\"\n",
    "FILE_PATH: Path = Path.cwd().absolute() / \"data\" / \"Walmart_customer_purchases.csv\""
   ]
  },
  {
   "cell_type": "code",
   "execution_count": 5,
   "metadata": {},
   "outputs": [],
   "source": [
    "df = pd.read_csv(FILE_PATH, sep=\",\")"
   ]
  },
  {
   "cell_type": "code",
   "execution_count": 4,
   "metadata": {},
   "outputs": [
    {
     "data": {
      "text/html": [
       "<div>\n",
       "<style scoped>\n",
       "    .dataframe tbody tr th:only-of-type {\n",
       "        vertical-align: middle;\n",
       "    }\n",
       "\n",
       "    .dataframe tbody tr th {\n",
       "        vertical-align: top;\n",
       "    }\n",
       "\n",
       "    .dataframe thead th {\n",
       "        text-align: right;\n",
       "    }\n",
       "</style>\n",
       "<table border=\"1\" class=\"dataframe\">\n",
       "  <thead>\n",
       "    <tr style=\"text-align: right;\">\n",
       "      <th></th>\n",
       "      <th>Customer_ID</th>\n",
       "      <th>Age</th>\n",
       "      <th>Gender</th>\n",
       "      <th>City</th>\n",
       "      <th>Category</th>\n",
       "      <th>Product_Name</th>\n",
       "      <th>Purchase_Date</th>\n",
       "      <th>Purchase_Amount</th>\n",
       "      <th>Payment_Method</th>\n",
       "      <th>Discount_Applied</th>\n",
       "      <th>Rating</th>\n",
       "      <th>Repeat_Customer</th>\n",
       "    </tr>\n",
       "  </thead>\n",
       "  <tbody>\n",
       "    <tr>\n",
       "      <th>0</th>\n",
       "      <td>84607c1f-910c-44d5-b89f-e1ee06dd34c0</td>\n",
       "      <td>49</td>\n",
       "      <td>Female</td>\n",
       "      <td>New Cynthia</td>\n",
       "      <td>Electronics</td>\n",
       "      <td>Smartphone</td>\n",
       "      <td>2024-08-30</td>\n",
       "      <td>253.26</td>\n",
       "      <td>Cash on Delivery</td>\n",
       "      <td>No</td>\n",
       "      <td>1</td>\n",
       "      <td>Yes</td>\n",
       "    </tr>\n",
       "    <tr>\n",
       "      <th>1</th>\n",
       "      <td>f2a81712-a73e-4424-8b39-4c615a0bd4ea</td>\n",
       "      <td>36</td>\n",
       "      <td>Other</td>\n",
       "      <td>Cruzport</td>\n",
       "      <td>Clothing</td>\n",
       "      <td>T-Shirt</td>\n",
       "      <td>2024-12-21</td>\n",
       "      <td>73.19</td>\n",
       "      <td>Debit Card</td>\n",
       "      <td>Yes</td>\n",
       "      <td>1</td>\n",
       "      <td>No</td>\n",
       "    </tr>\n",
       "    <tr>\n",
       "      <th>2</th>\n",
       "      <td>da9be287-8b0e-4688-bccd-1a2cdd7567c6</td>\n",
       "      <td>52</td>\n",
       "      <td>Male</td>\n",
       "      <td>Jeffreytown</td>\n",
       "      <td>Beauty</td>\n",
       "      <td>Perfume</td>\n",
       "      <td>2024-12-26</td>\n",
       "      <td>125.62</td>\n",
       "      <td>Credit Card</td>\n",
       "      <td>Yes</td>\n",
       "      <td>1</td>\n",
       "      <td>No</td>\n",
       "    </tr>\n",
       "    <tr>\n",
       "      <th>3</th>\n",
       "      <td>50ec6932-3ac7-492f-9e55-4b148212f302</td>\n",
       "      <td>47</td>\n",
       "      <td>Female</td>\n",
       "      <td>Jenniferburgh</td>\n",
       "      <td>Electronics</td>\n",
       "      <td>Smartwatch</td>\n",
       "      <td>2024-11-04</td>\n",
       "      <td>450.32</td>\n",
       "      <td>Credit Card</td>\n",
       "      <td>No</td>\n",
       "      <td>2</td>\n",
       "      <td>Yes</td>\n",
       "    </tr>\n",
       "    <tr>\n",
       "      <th>4</th>\n",
       "      <td>8fdc3098-fc75-4b0f-983c-d8d8168c6362</td>\n",
       "      <td>43</td>\n",
       "      <td>Other</td>\n",
       "      <td>Kingshire</td>\n",
       "      <td>Electronics</td>\n",
       "      <td>Smartphone</td>\n",
       "      <td>2024-10-07</td>\n",
       "      <td>369.28</td>\n",
       "      <td>Credit Card</td>\n",
       "      <td>Yes</td>\n",
       "      <td>2</td>\n",
       "      <td>Yes</td>\n",
       "    </tr>\n",
       "  </tbody>\n",
       "</table>\n",
       "</div>"
      ],
      "text/plain": [
       "                            Customer_ID  Age  Gender           City  \\\n",
       "0  84607c1f-910c-44d5-b89f-e1ee06dd34c0   49  Female    New Cynthia   \n",
       "1  f2a81712-a73e-4424-8b39-4c615a0bd4ea   36   Other       Cruzport   \n",
       "2  da9be287-8b0e-4688-bccd-1a2cdd7567c6   52    Male    Jeffreytown   \n",
       "3  50ec6932-3ac7-492f-9e55-4b148212f302   47  Female  Jenniferburgh   \n",
       "4  8fdc3098-fc75-4b0f-983c-d8d8168c6362   43   Other      Kingshire   \n",
       "\n",
       "      Category Product_Name Purchase_Date  Purchase_Amount    Payment_Method  \\\n",
       "0  Electronics   Smartphone    2024-08-30           253.26  Cash on Delivery   \n",
       "1     Clothing      T-Shirt    2024-12-21            73.19        Debit Card   \n",
       "2       Beauty      Perfume    2024-12-26           125.62       Credit Card   \n",
       "3  Electronics   Smartwatch    2024-11-04           450.32       Credit Card   \n",
       "4  Electronics   Smartphone    2024-10-07           369.28       Credit Card   \n",
       "\n",
       "  Discount_Applied  Rating Repeat_Customer  \n",
       "0               No       1             Yes  \n",
       "1              Yes       1              No  \n",
       "2              Yes       1              No  \n",
       "3               No       2             Yes  \n",
       "4              Yes       2             Yes  "
      ]
     },
     "execution_count": 4,
     "metadata": {},
     "output_type": "execute_result"
    }
   ],
   "source": [
    "df.head()"
   ]
  },
  {
   "cell_type": "code",
   "execution_count": null,
   "metadata": {},
   "outputs": [
    {
     "name": "stdout",
     "output_type": "stream",
     "text": [
      "<class 'pandas.core.frame.DataFrame'>\n",
      "RangeIndex: 50000 entries, 0 to 49999\n",
      "Data columns (total 12 columns):\n",
      " #   Column            Non-Null Count  Dtype  \n",
      "---  ------            --------------  -----  \n",
      " 0   Customer_ID       50000 non-null  object \n",
      " 1   Age               50000 non-null  int64  \n",
      " 2   Gender            50000 non-null  object \n",
      " 3   City              50000 non-null  object \n",
      " 4   Category          50000 non-null  object \n",
      " 5   Product_Name      50000 non-null  object \n",
      " 6   Purchase_Date     50000 non-null  object \n",
      " 7   Purchase_Amount   50000 non-null  float64\n",
      " 8   Payment_Method    50000 non-null  object \n",
      " 9   Discount_Applied  50000 non-null  object \n",
      " 10  Rating            50000 non-null  int64  \n",
      " 11  Repeat_Customer   50000 non-null  object \n",
      "dtypes: float64(1), int64(2), object(9)\n",
      "memory usage: 4.6+ MB\n"
     ]
    },
    {
     "data": {
      "text/html": [
       "<div>\n",
       "<style scoped>\n",
       "    .dataframe tbody tr th:only-of-type {\n",
       "        vertical-align: middle;\n",
       "    }\n",
       "\n",
       "    .dataframe tbody tr th {\n",
       "        vertical-align: top;\n",
       "    }\n",
       "\n",
       "    .dataframe thead th {\n",
       "        text-align: right;\n",
       "    }\n",
       "</style>\n",
       "<table border=\"1\" class=\"dataframe\">\n",
       "  <thead>\n",
       "    <tr style=\"text-align: right;\">\n",
       "      <th></th>\n",
       "      <th>Age</th>\n",
       "      <th>Purchase_Amount</th>\n",
       "      <th>Rating</th>\n",
       "    </tr>\n",
       "  </thead>\n",
       "  <tbody>\n",
       "    <tr>\n",
       "      <th>count</th>\n",
       "      <td>50000.000000</td>\n",
       "      <td>50000.000000</td>\n",
       "      <td>50000.000000</td>\n",
       "    </tr>\n",
       "    <tr>\n",
       "      <th>mean</th>\n",
       "      <td>38.945220</td>\n",
       "      <td>255.532230</td>\n",
       "      <td>2.998680</td>\n",
       "    </tr>\n",
       "    <tr>\n",
       "      <th>std</th>\n",
       "      <td>12.398137</td>\n",
       "      <td>141.574416</td>\n",
       "      <td>1.417956</td>\n",
       "    </tr>\n",
       "    <tr>\n",
       "      <th>min</th>\n",
       "      <td>18.000000</td>\n",
       "      <td>10.010000</td>\n",
       "      <td>1.000000</td>\n",
       "    </tr>\n",
       "    <tr>\n",
       "      <th>25%</th>\n",
       "      <td>28.000000</td>\n",
       "      <td>133.050000</td>\n",
       "      <td>2.000000</td>\n",
       "    </tr>\n",
       "    <tr>\n",
       "      <th>50%</th>\n",
       "      <td>39.000000</td>\n",
       "      <td>255.045000</td>\n",
       "      <td>3.000000</td>\n",
       "    </tr>\n",
       "    <tr>\n",
       "      <th>75%</th>\n",
       "      <td>50.000000</td>\n",
       "      <td>378.912500</td>\n",
       "      <td>4.000000</td>\n",
       "    </tr>\n",
       "    <tr>\n",
       "      <th>max</th>\n",
       "      <td>60.000000</td>\n",
       "      <td>499.990000</td>\n",
       "      <td>5.000000</td>\n",
       "    </tr>\n",
       "  </tbody>\n",
       "</table>\n",
       "</div>"
      ],
      "text/plain": [
       "                Age  Purchase_Amount        Rating\n",
       "count  50000.000000     50000.000000  50000.000000\n",
       "mean      38.945220       255.532230      2.998680\n",
       "std       12.398137       141.574416      1.417956\n",
       "min       18.000000        10.010000      1.000000\n",
       "25%       28.000000       133.050000      2.000000\n",
       "50%       39.000000       255.045000      3.000000\n",
       "75%       50.000000       378.912500      4.000000\n",
       "max       60.000000       499.990000      5.000000"
      ]
     },
     "execution_count": 25,
     "metadata": {},
     "output_type": "execute_result"
    }
   ],
   "source": [
    "df.info()\n",
    "df.describe()"
   ]
  },
  {
   "cell_type": "code",
   "execution_count": null,
   "metadata": {},
   "outputs": [
    {
     "data": {
      "text/plain": [
       "Customer_ID         0\n",
       "Age                 0\n",
       "Gender              0\n",
       "City                0\n",
       "Category            0\n",
       "Product_Name        0\n",
       "Purchase_Date       0\n",
       "Purchase_Amount     0\n",
       "Payment_Method      0\n",
       "Discount_Applied    0\n",
       "Rating              0\n",
       "Repeat_Customer     0\n",
       "dtype: int64"
      ]
     },
     "execution_count": 26,
     "metadata": {},
     "output_type": "execute_result"
    }
   ],
   "source": [
    "df.isna().sum()"
   ]
  },
  {
   "cell_type": "code",
   "execution_count": null,
   "metadata": {},
   "outputs": [
    {
     "data": {
      "text/plain": [
       "Customer_ID         False\n",
       "Age                 False\n",
       "Gender              False\n",
       "City                False\n",
       "Category            False\n",
       "Product_Name        False\n",
       "Purchase_Date       False\n",
       "Purchase_Amount     False\n",
       "Payment_Method      False\n",
       "Discount_Applied    False\n",
       "Rating              False\n",
       "Repeat_Customer     False\n",
       "dtype: bool"
      ]
     },
     "execution_count": 27,
     "metadata": {},
     "output_type": "execute_result"
    }
   ],
   "source": [
    "df.isnull().any()"
   ]
  },
  {
   "cell_type": "code",
   "execution_count": null,
   "metadata": {},
   "outputs": [
    {
     "data": {
      "text/plain": [
       "array([[<Axes: title={'center': 'Age'}>,\n",
       "        <Axes: title={'center': 'Rating'}>],\n",
       "       [<Axes: title={'center': 'Purchase_Amount'}>, <Axes: >]],\n",
       "      dtype=object)"
      ]
     },
     "execution_count": 33,
     "metadata": {},
     "output_type": "execute_result"
    },
    {
     "data": {
      "image/png": "[encoded data removed]",
      "text/plain": [
       "<Figure size 640x480 with 4 Axes>"
      ]
     },
     "metadata": {},
     "output_type": "display_data"
    }
   ],
   "source": [
    "df[['Age', 'Rating', 'Purchase_Amount']].hist()"
   ]
  },
  {
   "cell_type": "code",
   "execution_count": null,
   "metadata": {},
   "outputs": [
    {
     "data": {
      "text/html": [
       "<div>\n",
       "<style scoped>\n",
       "    .dataframe tbody tr th:only-of-type {\n",
       "        vertical-align: middle;\n",
       "    }\n",
       "\n",
       "    .dataframe tbody tr th {\n",
       "        vertical-align: top;\n",
       "    }\n",
       "\n",
       "    .dataframe thead th {\n",
       "        text-align: right;\n",
       "    }\n",
       "</style>\n",
       "<table border=\"1\" class=\"dataframe\">\n",
       "  <thead>\n",
       "    <tr style=\"text-align: right;\">\n",
       "      <th></th>\n",
       "      <th>Customer_ID</th>\n",
       "      <th>Gender</th>\n",
       "      <th>City</th>\n",
       "      <th>Category</th>\n",
       "      <th>Product_Name</th>\n",
       "      <th>Purchase_Date</th>\n",
       "      <th>Payment_Method</th>\n",
       "      <th>Discount_Applied</th>\n",
       "      <th>Repeat_Customer</th>\n",
       "    </tr>\n",
       "  </thead>\n",
       "  <tbody>\n",
       "    <tr>\n",
       "      <th>count</th>\n",
       "      <td>50000</td>\n",
       "      <td>50000</td>\n",
       "      <td>50000</td>\n",
       "      <td>50000</td>\n",
       "      <td>50000</td>\n",
       "      <td>50000</td>\n",
       "      <td>50000</td>\n",
       "      <td>50000</td>\n",
       "      <td>50000</td>\n",
       "    </tr>\n",
       "    <tr>\n",
       "      <th>unique</th>\n",
       "      <td>50000</td>\n",
       "      <td>3</td>\n",
       "      <td>25096</td>\n",
       "      <td>4</td>\n",
       "      <td>16</td>\n",
       "      <td>366</td>\n",
       "      <td>4</td>\n",
       "      <td>2</td>\n",
       "      <td>2</td>\n",
       "    </tr>\n",
       "    <tr>\n",
       "      <th>top</th>\n",
       "      <td>23e608eb-4b92-4b56-8145-126cd43cd408</td>\n",
       "      <td>Other</td>\n",
       "      <td>New Michael</td>\n",
       "      <td>Electronics</td>\n",
       "      <td>Headphones</td>\n",
       "      <td>2024-04-25</td>\n",
       "      <td>Debit Card</td>\n",
       "      <td>No</td>\n",
       "      <td>Yes</td>\n",
       "    </tr>\n",
       "    <tr>\n",
       "      <th>freq</th>\n",
       "      <td>1</td>\n",
       "      <td>16751</td>\n",
       "      <td>44</td>\n",
       "      <td>12642</td>\n",
       "      <td>3261</td>\n",
       "      <td>171</td>\n",
       "      <td>12589</td>\n",
       "      <td>25018</td>\n",
       "      <td>25244</td>\n",
       "    </tr>\n",
       "  </tbody>\n",
       "</table>\n",
       "</div>"
      ],
      "text/plain": [
       "                                 Customer_ID Gender         City     Category  \\\n",
       "count                                  50000  50000        50000        50000   \n",
       "unique                                 50000      3        25096            4   \n",
       "top     23e608eb-4b92-4b56-8145-126cd43cd408  Other  New Michael  Electronics   \n",
       "freq                                       1  16751           44        12642   \n",
       "\n",
       "       Product_Name Purchase_Date Payment_Method Discount_Applied  \\\n",
       "count         50000         50000          50000            50000   \n",
       "unique           16           366              4                2   \n",
       "top      Headphones    2024-04-25     Debit Card               No   \n",
       "freq           3261           171          12589            25018   \n",
       "\n",
       "       Repeat_Customer  \n",
       "count            50000  \n",
       "unique               2  \n",
       "top                Yes  \n",
       "freq             25244  "
      ]
     },
     "execution_count": 36,
     "metadata": {},
     "output_type": "execute_result"
    }
   ],
   "source": [
    "df.describe(include='object')"
   ]
  },
  {
   "cell_type": "code",
   "execution_count": null,
   "metadata": {},
   "outputs": [
    {
     "name": "stdout",
     "output_type": "stream",
     "text": [
      "['Female' 'Other' 'Male']\n",
      "['Electronics' 'Clothing' 'Beauty' 'Home']\n",
      "['Smartphone' 'T-Shirt' 'Perfume' 'Smartwatch' 'Laptop' 'Sofa Cover'\n",
      " 'Shampoo' 'Cookware' 'Curtains' 'Jeans' 'Headphones' 'Jacket'\n",
      " 'Face Cream' 'Lipstick' 'Lamp' 'Dress']\n",
      "['Cash on Delivery' 'Debit Card' 'Credit Card' 'UPI']\n",
      "['No' 'Yes']\n",
      "['Yes' 'No']\n"
     ]
    }
   ],
   "source": [
    "df['Gender'].unique()\n",
    "\n",
    "for item in ['Gender', 'Category', 'Product_Name', 'Payment_Method', 'Discount_Applied', \"Repeat_Customer\"]:\n",
    "    print(df[item].unique())"
   ]
  },
  {
   "cell_type": "code",
   "execution_count": null,
   "metadata": {},
   "outputs": [
    {
     "data": {
      "text/plain": [
       "id\n",
       "1            2\n",
       "2            3\n",
       "3            4\n",
       "4            5\n",
       "5            6\n",
       "         ...  \n",
       "49996    49997\n",
       "49997    49998\n",
       "49998    49999\n",
       "49999    50000\n",
       "50000    50001\n",
       "Name: id, Length: 50000, dtype: int64"
      ]
     },
     "execution_count": 45,
     "metadata": {},
     "output_type": "execute_result"
    }
   ],
   "source": [
    "df['id'] = df.index + 1\n",
    "df['id']"
   ]
  },
  {
   "cell_type": "code",
   "execution_count": null,
   "metadata": {},
   "outputs": [],
   "source": [
    "df.set_index('id', inplace=True)"
   ]
  },
  {
   "cell_type": "code",
   "execution_count": null,
   "metadata": {},
   "outputs": [
    {
     "ename": "TypeError",
     "evalue": "no numeric data to plot",
     "output_type": "error",
     "traceback": [
      "\u001b[31m---------------------------------------------------------------------------\u001b[39m",
      "\u001b[31mTypeError\u001b[39m                                 Traceback (most recent call last)",
      "\u001b[36mCell\u001b[39m\u001b[36m \u001b[39m\u001b[32mIn[49]\u001b[39m\u001b[32m, line 1\u001b[39m\n\u001b[32m----> \u001b[39m\u001b[32m1\u001b[39m \u001b[43mdf\u001b[49m\u001b[43m.\u001b[49m\u001b[43mplot\u001b[49m\u001b[43m.\u001b[49m\u001b[43mline\u001b[49m\u001b[43m(\u001b[49m\u001b[43mx\u001b[49m\u001b[43m=\u001b[49m\u001b[33;43m'\u001b[39;49m\u001b[33;43mid\u001b[39;49m\u001b[33;43m'\u001b[39;49m\u001b[43m,\u001b[49m\u001b[43m \u001b[49m\u001b[43my\u001b[49m\u001b[43m=\u001b[49m\u001b[33;43m'\u001b[39;49m\u001b[33;43mPurchase_Date\u001b[39;49m\u001b[33;43m'\u001b[39;49m\u001b[43m)\u001b[49m\n\u001b[32m      2\u001b[39m plt.show()\n",
      "\u001b[36mFile \u001b[39m\u001b[32md:\\Kevin File Documents\\Code\\everythingdata_project\\.venv\\Lib\\site-packages\\pandas\\plotting\\_core.py:1100\u001b[39m, in \u001b[36mPlotAccessor.line\u001b[39m\u001b[34m(self, x, y, **kwargs)\u001b[39m\n\u001b[32m   1034\u001b[39m \u001b[38;5;129m@Appender\u001b[39m(\n\u001b[32m   1035\u001b[39m \u001b[38;5;250m    \u001b[39m\u001b[33;03m\"\"\"\u001b[39;00m\n\u001b[32m   1036\u001b[39m \u001b[33;03m    See Also\u001b[39;00m\n\u001b[32m   (...)\u001b[39m\u001b[32m   1092\u001b[39m     \u001b[38;5;28mself\u001b[39m, x: Hashable | \u001b[38;5;28;01mNone\u001b[39;00m = \u001b[38;5;28;01mNone\u001b[39;00m, y: Hashable | \u001b[38;5;28;01mNone\u001b[39;00m = \u001b[38;5;28;01mNone\u001b[39;00m, **kwargs\n\u001b[32m   1093\u001b[39m ) -> PlotAccessor:\n\u001b[32m   1094\u001b[39m \u001b[38;5;250m    \u001b[39m\u001b[33;03m\"\"\"\u001b[39;00m\n\u001b[32m   1095\u001b[39m \u001b[33;03m    Plot Series or DataFrame as lines.\u001b[39;00m\n\u001b[32m   1096\u001b[39m \n\u001b[32m   1097\u001b[39m \u001b[33;03m    This function is useful to plot lines using DataFrame's values\u001b[39;00m\n\u001b[32m   1098\u001b[39m \u001b[33;03m    as coordinates.\u001b[39;00m\n\u001b[32m   1099\u001b[39m \u001b[33;03m    \"\"\"\u001b[39;00m\n\u001b[32m-> \u001b[39m\u001b[32m1100\u001b[39m     \u001b[38;5;28;01mreturn\u001b[39;00m \u001b[38;5;28;43mself\u001b[39;49m\u001b[43m(\u001b[49m\u001b[43mkind\u001b[49m\u001b[43m=\u001b[49m\u001b[33;43m\"\u001b[39;49m\u001b[33;43mline\u001b[39;49m\u001b[33;43m\"\u001b[39;49m\u001b[43m,\u001b[49m\u001b[43m \u001b[49m\u001b[43mx\u001b[49m\u001b[43m=\u001b[49m\u001b[43mx\u001b[49m\u001b[43m,\u001b[49m\u001b[43m \u001b[49m\u001b[43my\u001b[49m\u001b[43m=\u001b[49m\u001b[43my\u001b[49m\u001b[43m,\u001b[49m\u001b[43m \u001b[49m\u001b[43m*\u001b[49m\u001b[43m*\u001b[49m\u001b[43mkwargs\u001b[49m\u001b[43m)\u001b[49m\n",
      "\u001b[36mFile \u001b[39m\u001b[32md:\\Kevin File Documents\\Code\\everythingdata_project\\.venv\\Lib\\site-packages\\pandas\\plotting\\_core.py:1030\u001b[39m, in \u001b[36mPlotAccessor.__call__\u001b[39m\u001b[34m(self, *args, **kwargs)\u001b[39m\n\u001b[32m   1027\u001b[39m             label_name = label_kw \u001b[38;5;129;01mor\u001b[39;00m data.columns\n\u001b[32m   1028\u001b[39m             data.columns = label_name\n\u001b[32m-> \u001b[39m\u001b[32m1030\u001b[39m \u001b[38;5;28;01mreturn\u001b[39;00m \u001b[43mplot_backend\u001b[49m\u001b[43m.\u001b[49m\u001b[43mplot\u001b[49m\u001b[43m(\u001b[49m\u001b[43mdata\u001b[49m\u001b[43m,\u001b[49m\u001b[43m \u001b[49m\u001b[43mkind\u001b[49m\u001b[43m=\u001b[49m\u001b[43mkind\u001b[49m\u001b[43m,\u001b[49m\u001b[43m \u001b[49m\u001b[43m*\u001b[49m\u001b[43m*\u001b[49m\u001b[43mkwargs\u001b[49m\u001b[43m)\u001b[49m\n",
      "\u001b[36mFile \u001b[39m\u001b[32md:\\Kevin File Documents\\Code\\everythingdata_project\\.venv\\Lib\\site-packages\\pandas\\plotting\\_matplotlib\\__init__.py:71\u001b[39m, in \u001b[36mplot\u001b[39m\u001b[34m(data, kind, **kwargs)\u001b[39m\n\u001b[32m     69\u001b[39m         kwargs[\u001b[33m\"\u001b[39m\u001b[33max\u001b[39m\u001b[33m\"\u001b[39m] = \u001b[38;5;28mgetattr\u001b[39m(ax, \u001b[33m\"\u001b[39m\u001b[33mleft_ax\u001b[39m\u001b[33m\"\u001b[39m, ax)\n\u001b[32m     70\u001b[39m plot_obj = PLOT_CLASSES[kind](data, **kwargs)\n\u001b[32m---> \u001b[39m\u001b[32m71\u001b[39m \u001b[43mplot_obj\u001b[49m\u001b[43m.\u001b[49m\u001b[43mgenerate\u001b[49m\u001b[43m(\u001b[49m\u001b[43m)\u001b[49m\n\u001b[32m     72\u001b[39m plot_obj.draw()\n\u001b[32m     73\u001b[39m \u001b[38;5;28;01mreturn\u001b[39;00m plot_obj.result\n",
      "\u001b[36mFile \u001b[39m\u001b[32md:\\Kevin File Documents\\Code\\everythingdata_project\\.venv\\Lib\\site-packages\\pandas\\plotting\\_matplotlib\\core.py:499\u001b[39m, in \u001b[36mMPLPlot.generate\u001b[39m\u001b[34m(self)\u001b[39m\n\u001b[32m    497\u001b[39m \u001b[38;5;129m@final\u001b[39m\n\u001b[32m    498\u001b[39m \u001b[38;5;28;01mdef\u001b[39;00m\u001b[38;5;250m \u001b[39m\u001b[34mgenerate\u001b[39m(\u001b[38;5;28mself\u001b[39m) -> \u001b[38;5;28;01mNone\u001b[39;00m:\n\u001b[32m--> \u001b[39m\u001b[32m499\u001b[39m     \u001b[38;5;28;43mself\u001b[39;49m\u001b[43m.\u001b[49m\u001b[43m_compute_plot_data\u001b[49m\u001b[43m(\u001b[49m\u001b[43m)\u001b[49m\n\u001b[32m    500\u001b[39m     fig = \u001b[38;5;28mself\u001b[39m.fig\n\u001b[32m    501\u001b[39m     \u001b[38;5;28mself\u001b[39m._make_plot(fig)\n",
      "\u001b[36mFile \u001b[39m\u001b[32md:\\Kevin File Documents\\Code\\everythingdata_project\\.venv\\Lib\\site-packages\\pandas\\plotting\\_matplotlib\\core.py:698\u001b[39m, in \u001b[36mMPLPlot._compute_plot_data\u001b[39m\u001b[34m(self)\u001b[39m\n\u001b[32m    696\u001b[39m \u001b[38;5;66;03m# no non-numeric frames or series allowed\u001b[39;00m\n\u001b[32m    697\u001b[39m \u001b[38;5;28;01mif\u001b[39;00m is_empty:\n\u001b[32m--> \u001b[39m\u001b[32m698\u001b[39m     \u001b[38;5;28;01mraise\u001b[39;00m \u001b[38;5;167;01mTypeError\u001b[39;00m(\u001b[33m\"\u001b[39m\u001b[33mno numeric data to plot\u001b[39m\u001b[33m\"\u001b[39m)\n\u001b[32m    700\u001b[39m \u001b[38;5;28mself\u001b[39m.data = numeric_data.apply(\u001b[38;5;28mtype\u001b[39m(\u001b[38;5;28mself\u001b[39m)._convert_to_ndarray)\n",
      "\u001b[31mTypeError\u001b[39m: no numeric data to plot"
     ]
    }
   ],
   "source": [
    "df.plot.line(x='id', y='Purchase_Date')\n",
    "plt.show()"
   ]
  },
  {
   "cell_type": "code",
   "execution_count": null,
   "metadata": {},
   "outputs": [
    {
     "data": {
      "text/plain": [
       "id\n",
       "1    2024-08-30\n",
       "2    2024-12-21\n",
       "3    2024-12-26\n",
       "4    2024-11-04\n",
       "5    2024-10-07\n",
       "Name: Purchase_Date, dtype: object"
      ]
     },
     "execution_count": 52,
     "metadata": {},
     "output_type": "execute_result"
    }
   ],
   "source": [
    "df['Purchase_Date'].head()"
   ]
  },
  {
   "cell_type": "code",
   "execution_count": null,
   "metadata": {},
   "outputs": [
    {
     "data": {
      "text/plain": [
       "dtype('<M8[ns]')"
      ]
     },
     "execution_count": 58,
     "metadata": {},
     "output_type": "execute_result"
    }
   ],
   "source": [
    "df['buy_date'] = pd.to_datetime(df['Purchase_Date'])\n",
    "df['buy_date'].dtype"
   ]
  },
  {
   "cell_type": "code",
   "execution_count": null,
   "metadata": {},
   "outputs": [
    {
     "data": {
      "text/plain": [
       "<DatetimeArray>\n",
       "['2024-12-21 00:00:00', '2024-12-26 00:00:00', '2024-03-16 00:00:00',\n",
       " '2024-09-27 00:00:00', '2024-06-15 00:00:00', '2024-10-25 00:00:00',\n",
       " '2024-04-09 00:00:00', '2024-12-19 00:00:00', '2024-05-21 00:00:00',\n",
       " '2024-08-03 00:00:00',\n",
       " ...\n",
       " '2024-06-12 00:00:00', '2024-09-22 00:00:00', '2024-08-21 00:00:00',\n",
       " '2024-09-16 00:00:00', '2024-02-29 00:00:00', '2024-08-23 00:00:00',\n",
       " '2024-12-29 00:00:00', '2024-05-18 00:00:00', '2024-10-06 00:00:00',\n",
       " '2024-10-31 00:00:00']\n",
       "Length: 366, dtype: datetime64[ns]"
      ]
     },
     "execution_count": 74,
     "metadata": {},
     "output_type": "execute_result"
    }
   ],
   "source": [
    "df['buy_date'].describe()\n",
    "df['buy_date'][df['buy_date'].duplicated()].unique()\n"
   ]
  },
  {
   "cell_type": "markdown",
   "metadata": {},
   "source": [
    "Now checking each individual item on my df to ensure that they have the right spread and dont have outliers or other odd data in it"
   ]
  },
  {
   "cell_type": "code",
   "execution_count": null,
   "metadata": {},
   "outputs": [
    {
     "data": {
      "text/plain": [
       "<Axes: ylabel='Frequency'>"
      ]
     },
     "execution_count": 79,
     "metadata": {},
     "output_type": "execute_result"
    },
    {
     "data": {
      "image/png": "[encoded data removed]",
      "text/plain": [
       "<Figure size 640x480 with 1 Axes>"
      ]
     },
     "metadata": {},
     "output_type": "display_data"
    }
   ],
   "source": [
    "df['Age'].plot.hist(bins=50)"
   ]
  },
  {
   "cell_type": "code",
   "execution_count": null,
   "metadata": {},
   "outputs": [
    {
     "ename": "KeyboardInterrupt",
     "evalue": "",
     "output_type": "error",
     "traceback": [
      "\u001b[31m---------------------------------------------------------------------------\u001b[39m",
      "\u001b[31mKeyboardInterrupt\u001b[39m                         Traceback (most recent call last)",
      "\u001b[36mCell\u001b[39m\u001b[36m \u001b[39m\u001b[32mIn[4]\u001b[39m\u001b[32m, line 3\u001b[39m\n\u001b[32m      1\u001b[39m \u001b[38;5;66;03m# sns.boxplot(x=df['Age'])\u001b[39;00m\n\u001b[32m      2\u001b[39m \u001b[38;5;28;01mfor\u001b[39;00m item \u001b[38;5;129;01min\u001b[39;00m df.columns:\n\u001b[32m----> \u001b[39m\u001b[32m3\u001b[39m     \u001b[43msns\u001b[49m\u001b[43m.\u001b[49m\u001b[43mboxplot\u001b[49m\u001b[43m(\u001b[49m\u001b[43mx\u001b[49m\u001b[43m=\u001b[49m\u001b[43mdf\u001b[49m\u001b[43m[\u001b[49m\u001b[43mitem\u001b[49m\u001b[43m]\u001b[49m\u001b[43m)\u001b[49m\n",
      "\u001b[36mFile \u001b[39m\u001b[32md:\\Kevin File Documents\\Code\\everythingdata_project\\.venv\\Lib\\site-packages\\seaborn\\categorical.py:1647\u001b[39m, in \u001b[36mboxplot\u001b[39m\u001b[34m(data, x, y, hue, order, hue_order, orient, color, palette, saturation, fill, dodge, width, gap, whis, linecolor, linewidth, fliersize, hue_norm, native_scale, log_scale, formatter, legend, ax, **kwargs)\u001b[39m\n\u001b[32m   1632\u001b[39m linecolor = p._complement_color(linecolor, color, p._hue_map)\n\u001b[32m   1634\u001b[39m p.plot_boxes(\n\u001b[32m   1635\u001b[39m     width=width,\n\u001b[32m   1636\u001b[39m     dodge=dodge,\n\u001b[32m   (...)\u001b[39m\u001b[32m   1644\u001b[39m     plot_kws=kwargs,\n\u001b[32m   1645\u001b[39m )\n\u001b[32m-> \u001b[39m\u001b[32m1647\u001b[39m \u001b[43mp\u001b[49m\u001b[43m.\u001b[49m\u001b[43m_add_axis_labels\u001b[49m\u001b[43m(\u001b[49m\u001b[43max\u001b[49m\u001b[43m)\u001b[49m\n\u001b[32m   1648\u001b[39m p._adjust_cat_axis(ax, axis=p.orient)\n\u001b[32m   1650\u001b[39m \u001b[38;5;28;01mreturn\u001b[39;00m ax\n",
      "\u001b[36mFile \u001b[39m\u001b[32md:\\Kevin File Documents\\Code\\everythingdata_project\\.venv\\Lib\\site-packages\\seaborn\\_base.py:1196\u001b[39m, in \u001b[36mVectorPlotter._add_axis_labels\u001b[39m\u001b[34m(self, ax, default_x, default_y)\u001b[39m\n\u001b[32m   1191\u001b[39m \u001b[38;5;66;03m# TODO ax could default to None and use attached axes if present\u001b[39;00m\n\u001b[32m   1192\u001b[39m \u001b[38;5;66;03m# but what to do about the case of facets? Currently using FacetGrid's\u001b[39;00m\n\u001b[32m   1193\u001b[39m \u001b[38;5;66;03m# set_axis_labels method, which doesn't add labels to the interior even\u001b[39;00m\n\u001b[32m   1194\u001b[39m \u001b[38;5;66;03m# when the axes are not shared. Maybe that makes sense?\u001b[39;00m\n\u001b[32m   1195\u001b[39m \u001b[38;5;28;01mif\u001b[39;00m \u001b[38;5;129;01mnot\u001b[39;00m ax.get_xlabel():\n\u001b[32m-> \u001b[39m\u001b[32m1196\u001b[39m     x_visible = \u001b[38;5;28many\u001b[39m(t.get_visible() \u001b[38;5;28;01mfor\u001b[39;00m t \u001b[38;5;129;01min\u001b[39;00m \u001b[43max\u001b[49m\u001b[43m.\u001b[49m\u001b[43mget_xticklabels\u001b[49m\u001b[43m(\u001b[49m\u001b[43m)\u001b[49m)\n\u001b[32m   1197\u001b[39m     ax.set_xlabel(\u001b[38;5;28mself\u001b[39m.variables.get(\u001b[33m\"\u001b[39m\u001b[33mx\u001b[39m\u001b[33m\"\u001b[39m, default_x), visible=x_visible)\n\u001b[32m   1198\u001b[39m \u001b[38;5;28;01mif\u001b[39;00m \u001b[38;5;129;01mnot\u001b[39;00m ax.get_ylabel():\n",
      "\u001b[36mFile \u001b[39m\u001b[32md:\\Kevin File Documents\\Code\\everythingdata_project\\.venv\\Lib\\site-packages\\matplotlib\\axes\\_base.py:74\u001b[39m, in \u001b[36m_axis_method_wrapper.__set_name__.<locals>.wrapper\u001b[39m\u001b[34m(self, *args, **kwargs)\u001b[39m\n\u001b[32m     73\u001b[39m \u001b[38;5;28;01mdef\u001b[39;00m\u001b[38;5;250m \u001b[39m\u001b[34mwrapper\u001b[39m(\u001b[38;5;28mself\u001b[39m, *args, **kwargs):\n\u001b[32m---> \u001b[39m\u001b[32m74\u001b[39m     \u001b[38;5;28;01mreturn\u001b[39;00m \u001b[43mget_method\u001b[49m\u001b[43m(\u001b[49m\u001b[38;5;28;43mself\u001b[39;49m\u001b[43m)\u001b[49m\u001b[43m(\u001b[49m\u001b[43m*\u001b[49m\u001b[43margs\u001b[49m\u001b[43m,\u001b[49m\u001b[43m \u001b[49m\u001b[43m*\u001b[49m\u001b[43m*\u001b[49m\u001b[43mkwargs\u001b[49m\u001b[43m)\u001b[49m\n",
      "\u001b[36mFile \u001b[39m\u001b[32md:\\Kevin File Documents\\Code\\everythingdata_project\\.venv\\Lib\\site-packages\\matplotlib\\axis.py:1497\u001b[39m, in \u001b[36mAxis.get_ticklabels\u001b[39m\u001b[34m(self, minor, which)\u001b[39m\n\u001b[32m   1495\u001b[39m \u001b[38;5;28;01mif\u001b[39;00m minor:\n\u001b[32m   1496\u001b[39m     \u001b[38;5;28;01mreturn\u001b[39;00m \u001b[38;5;28mself\u001b[39m.get_minorticklabels()\n\u001b[32m-> \u001b[39m\u001b[32m1497\u001b[39m \u001b[38;5;28;01mreturn\u001b[39;00m \u001b[38;5;28;43mself\u001b[39;49m\u001b[43m.\u001b[49m\u001b[43mget_majorticklabels\u001b[49m\u001b[43m(\u001b[49m\u001b[43m)\u001b[49m\n",
      "\u001b[36mFile \u001b[39m\u001b[32md:\\Kevin File Documents\\Code\\everythingdata_project\\.venv\\Lib\\site-packages\\matplotlib\\axis.py:1454\u001b[39m, in \u001b[36mAxis.get_majorticklabels\u001b[39m\u001b[34m(self)\u001b[39m\n\u001b[32m   1452\u001b[39m \u001b[38;5;28;01mdef\u001b[39;00m\u001b[38;5;250m \u001b[39m\u001b[34mget_majorticklabels\u001b[39m(\u001b[38;5;28mself\u001b[39m):\n\u001b[32m   1453\u001b[39m \u001b[38;5;250m    \u001b[39m\u001b[33;03m\"\"\"Return this Axis' major tick labels, as a list of `~.text.Text`.\"\"\"\u001b[39;00m\n\u001b[32m-> \u001b[39m\u001b[32m1454\u001b[39m     \u001b[38;5;28;43mself\u001b[39;49m\u001b[43m.\u001b[49m\u001b[43m_update_ticks\u001b[49m\u001b[43m(\u001b[49m\u001b[43m)\u001b[49m\n\u001b[32m   1455\u001b[39m     ticks = \u001b[38;5;28mself\u001b[39m.get_major_ticks()\n\u001b[32m   1456\u001b[39m     labels1 = [tick.label1 \u001b[38;5;28;01mfor\u001b[39;00m tick \u001b[38;5;129;01min\u001b[39;00m ticks \u001b[38;5;28;01mif\u001b[39;00m tick.label1.get_visible()]\n",
      "\u001b[36mFile \u001b[39m\u001b[32md:\\Kevin File Documents\\Code\\everythingdata_project\\.venv\\Lib\\site-packages\\matplotlib\\axis.py:1283\u001b[39m, in \u001b[36mAxis._update_ticks\u001b[39m\u001b[34m(self)\u001b[39m\n\u001b[32m   1281\u001b[39m major_locs = \u001b[38;5;28mself\u001b[39m.get_majorticklocs()\n\u001b[32m   1282\u001b[39m major_labels = \u001b[38;5;28mself\u001b[39m.major.formatter.format_ticks(major_locs)\n\u001b[32m-> \u001b[39m\u001b[32m1283\u001b[39m major_ticks = \u001b[38;5;28;43mself\u001b[39;49m\u001b[43m.\u001b[49m\u001b[43mget_major_ticks\u001b[49m\u001b[43m(\u001b[49m\u001b[38;5;28;43mlen\u001b[39;49m\u001b[43m(\u001b[49m\u001b[43mmajor_locs\u001b[49m\u001b[43m)\u001b[49m\u001b[43m)\u001b[49m\n\u001b[32m   1284\u001b[39m \u001b[38;5;28;01mfor\u001b[39;00m tick, loc, label \u001b[38;5;129;01min\u001b[39;00m \u001b[38;5;28mzip\u001b[39m(major_ticks, major_locs, major_labels):\n\u001b[32m   1285\u001b[39m     tick.update_position(loc)\n",
      "\u001b[36mFile \u001b[39m\u001b[32md:\\Kevin File Documents\\Code\\everythingdata_project\\.venv\\Lib\\site-packages\\matplotlib\\axis.py:1664\u001b[39m, in \u001b[36mAxis.get_major_ticks\u001b[39m\u001b[34m(self, numticks)\u001b[39m\n\u001b[32m   1660\u001b[39m     numticks = \u001b[38;5;28mlen\u001b[39m(\u001b[38;5;28mself\u001b[39m.get_majorticklocs())\n\u001b[32m   1662\u001b[39m \u001b[38;5;28;01mwhile\u001b[39;00m \u001b[38;5;28mlen\u001b[39m(\u001b[38;5;28mself\u001b[39m.majorTicks) < numticks:\n\u001b[32m   1663\u001b[39m     \u001b[38;5;66;03m# Update the new tick label properties from the old.\u001b[39;00m\n\u001b[32m-> \u001b[39m\u001b[32m1664\u001b[39m     tick = \u001b[38;5;28;43mself\u001b[39;49m\u001b[43m.\u001b[49m\u001b[43m_get_tick\u001b[49m\u001b[43m(\u001b[49m\u001b[43mmajor\u001b[49m\u001b[43m=\u001b[49m\u001b[38;5;28;43;01mTrue\u001b[39;49;00m\u001b[43m)\u001b[49m\n\u001b[32m   1665\u001b[39m     \u001b[38;5;28mself\u001b[39m.majorTicks.append(tick)\n\u001b[32m   1666\u001b[39m     \u001b[38;5;28mself\u001b[39m._copy_tick_props(\u001b[38;5;28mself\u001b[39m.majorTicks[\u001b[32m0\u001b[39m], tick)\n",
      "\u001b[36mFile \u001b[39m\u001b[32md:\\Kevin File Documents\\Code\\everythingdata_project\\.venv\\Lib\\site-packages\\matplotlib\\axis.py:1592\u001b[39m, in \u001b[36mAxis._get_tick\u001b[39m\u001b[34m(self, major)\u001b[39m\n\u001b[32m   1588\u001b[39m     \u001b[38;5;28;01mraise\u001b[39;00m \u001b[38;5;167;01mNotImplementedError\u001b[39;00m(\n\u001b[32m   1589\u001b[39m         \u001b[33mf\u001b[39m\u001b[33m\"\u001b[39m\u001b[33mThe Axis subclass \u001b[39m\u001b[38;5;132;01m{\u001b[39;00m\u001b[38;5;28mself\u001b[39m.\u001b[34m__class__\u001b[39m.\u001b[34m__name__\u001b[39m\u001b[38;5;132;01m}\u001b[39;00m\u001b[33m must define \u001b[39m\u001b[33m\"\u001b[39m\n\u001b[32m   1590\u001b[39m         \u001b[33m\"\u001b[39m\u001b[33m_tick_class or reimplement _get_tick()\u001b[39m\u001b[33m\"\u001b[39m)\n\u001b[32m   1591\u001b[39m tick_kw = \u001b[38;5;28mself\u001b[39m._major_tick_kw \u001b[38;5;28;01mif\u001b[39;00m major \u001b[38;5;28;01melse\u001b[39;00m \u001b[38;5;28mself\u001b[39m._minor_tick_kw\n\u001b[32m-> \u001b[39m\u001b[32m1592\u001b[39m \u001b[38;5;28;01mreturn\u001b[39;00m \u001b[38;5;28;43mself\u001b[39;49m\u001b[43m.\u001b[49m\u001b[43m_tick_class\u001b[49m\u001b[43m(\u001b[49m\u001b[38;5;28;43mself\u001b[39;49m\u001b[43m.\u001b[49m\u001b[43maxes\u001b[49m\u001b[43m,\u001b[49m\u001b[43m \u001b[49m\u001b[32;43m0\u001b[39;49m\u001b[43m,\u001b[49m\u001b[43m \u001b[49m\u001b[43mmajor\u001b[49m\u001b[43m=\u001b[49m\u001b[43mmajor\u001b[49m\u001b[43m,\u001b[49m\u001b[43m \u001b[49m\u001b[43m*\u001b[49m\u001b[43m*\u001b[49m\u001b[43mtick_kw\u001b[49m\u001b[43m)\u001b[49m\n",
      "\u001b[36mFile \u001b[39m\u001b[32md:\\Kevin File Documents\\Code\\everythingdata_project\\.venv\\Lib\\site-packages\\matplotlib\\axis.py:368\u001b[39m, in \u001b[36mXTick.__init__\u001b[39m\u001b[34m(self, *args, **kwargs)\u001b[39m\n\u001b[32m    367\u001b[39m \u001b[38;5;28;01mdef\u001b[39;00m\u001b[38;5;250m \u001b[39m\u001b[34m__init__\u001b[39m(\u001b[38;5;28mself\u001b[39m, *args, **kwargs):\n\u001b[32m--> \u001b[39m\u001b[32m368\u001b[39m     \u001b[38;5;28;43msuper\u001b[39;49m\u001b[43m(\u001b[49m\u001b[43m)\u001b[49m\u001b[43m.\u001b[49m\u001b[34;43m__init__\u001b[39;49m\u001b[43m(\u001b[49m\u001b[43m*\u001b[49m\u001b[43margs\u001b[49m\u001b[43m,\u001b[49m\u001b[43m \u001b[49m\u001b[43m*\u001b[49m\u001b[43m*\u001b[49m\u001b[43mkwargs\u001b[49m\u001b[43m)\u001b[49m\n\u001b[32m    369\u001b[39m     \u001b[38;5;66;03m# x in data coords, y in axes coords\u001b[39;00m\n\u001b[32m    370\u001b[39m     ax = \u001b[38;5;28mself\u001b[39m.axes\n",
      "\u001b[36mFile \u001b[39m\u001b[32md:\\Kevin File Documents\\Code\\everythingdata_project\\.venv\\Lib\\site-packages\\matplotlib\\axis.py:164\u001b[39m, in \u001b[36mTick.__init__\u001b[39m\u001b[34m(self, axes, loc, size, width, color, tickdir, pad, labelsize, labelcolor, labelfontfamily, zorder, gridOn, tick1On, tick2On, label1On, label2On, major, labelrotation, grid_color, grid_linestyle, grid_linewidth, grid_alpha, **kwargs)\u001b[39m\n\u001b[32m    154\u001b[39m \u001b[38;5;28mself\u001b[39m.tick1line = mlines.Line2D(\n\u001b[32m    155\u001b[39m     [], [],\n\u001b[32m    156\u001b[39m     color=color, linestyle=\u001b[33m\"\u001b[39m\u001b[33mnone\u001b[39m\u001b[33m\"\u001b[39m, zorder=zorder, visible=tick1On,\n\u001b[32m    157\u001b[39m     markeredgecolor=color, markersize=size, markeredgewidth=width,\n\u001b[32m    158\u001b[39m )\n\u001b[32m    159\u001b[39m \u001b[38;5;28mself\u001b[39m.tick2line = mlines.Line2D(\n\u001b[32m    160\u001b[39m     [], [],\n\u001b[32m    161\u001b[39m     color=color, linestyle=\u001b[33m\"\u001b[39m\u001b[33mnone\u001b[39m\u001b[33m\"\u001b[39m, zorder=zorder, visible=tick2On,\n\u001b[32m    162\u001b[39m     markeredgecolor=color, markersize=size, markeredgewidth=width,\n\u001b[32m    163\u001b[39m )\n\u001b[32m--> \u001b[39m\u001b[32m164\u001b[39m \u001b[38;5;28mself\u001b[39m.gridline = \u001b[43mmlines\u001b[49m\u001b[43m.\u001b[49m\u001b[43mLine2D\u001b[49m\u001b[43m(\u001b[49m\n\u001b[32m    165\u001b[39m \u001b[43m    \u001b[49m\u001b[43m[\u001b[49m\u001b[43m]\u001b[49m\u001b[43m,\u001b[49m\u001b[43m \u001b[49m\u001b[43m[\u001b[49m\u001b[43m]\u001b[49m\u001b[43m,\u001b[49m\n\u001b[32m    166\u001b[39m \u001b[43m    \u001b[49m\u001b[43mcolor\u001b[49m\u001b[43m=\u001b[49m\u001b[43mgrid_color\u001b[49m\u001b[43m,\u001b[49m\u001b[43m \u001b[49m\u001b[43malpha\u001b[49m\u001b[43m=\u001b[49m\u001b[43mgrid_alpha\u001b[49m\u001b[43m,\u001b[49m\u001b[43m \u001b[49m\u001b[43mvisible\u001b[49m\u001b[43m=\u001b[49m\u001b[43mgridOn\u001b[49m\u001b[43m,\u001b[49m\n\u001b[32m    167\u001b[39m \u001b[43m    \u001b[49m\u001b[43mlinestyle\u001b[49m\u001b[43m=\u001b[49m\u001b[43mgrid_linestyle\u001b[49m\u001b[43m,\u001b[49m\u001b[43m \u001b[49m\u001b[43mlinewidth\u001b[49m\u001b[43m=\u001b[49m\u001b[43mgrid_linewidth\u001b[49m\u001b[43m,\u001b[49m\u001b[43m \u001b[49m\u001b[43mmarker\u001b[49m\u001b[43m=\u001b[49m\u001b[33;43m\"\u001b[39;49m\u001b[33;43m\"\u001b[39;49m\u001b[43m,\u001b[49m\n\u001b[32m    168\u001b[39m \u001b[43m    \u001b[49m\u001b[43m*\u001b[49m\u001b[43m*\u001b[49m\u001b[43mgrid_kw\u001b[49m\u001b[43m,\u001b[49m\n\u001b[32m    169\u001b[39m \u001b[43m\u001b[49m\u001b[43m)\u001b[49m\n\u001b[32m    170\u001b[39m \u001b[38;5;28mself\u001b[39m.gridline.get_path()._interpolation_steps = \\\n\u001b[32m    171\u001b[39m     GRIDLINE_INTERPOLATION_STEPS\n\u001b[32m    172\u001b[39m \u001b[38;5;28mself\u001b[39m.label1 = mtext.Text(\n\u001b[32m    173\u001b[39m     np.nan, np.nan,\n\u001b[32m    174\u001b[39m     fontsize=labelsize, color=labelcolor, visible=label1On,\n\u001b[32m    175\u001b[39m     fontfamily=labelfontfamily, rotation=\u001b[38;5;28mself\u001b[39m._labelrotation[\u001b[32m1\u001b[39m])\n",
      "\u001b[36mFile \u001b[39m\u001b[32md:\\Kevin File Documents\\Code\\everythingdata_project\\.venv\\Lib\\site-packages\\matplotlib\\lines.py:403\u001b[39m, in \u001b[36mLine2D.__init__\u001b[39m\u001b[34m(self, xdata, ydata, linewidth, linestyle, color, gapcolor, marker, markersize, markeredgewidth, markeredgecolor, markerfacecolor, markerfacecoloralt, fillstyle, antialiased, dash_capstyle, solid_capstyle, dash_joinstyle, solid_joinstyle, pickradius, drawstyle, markevery, **kwargs)\u001b[39m\n\u001b[32m    401\u001b[39m \u001b[38;5;28mself\u001b[39m.set_markerfacecoloralt(markerfacecoloralt)\n\u001b[32m    402\u001b[39m \u001b[38;5;28mself\u001b[39m.set_markeredgecolor(markeredgecolor)  \u001b[38;5;66;03m# Normalizes None to rc.\u001b[39;00m\n\u001b[32m--> \u001b[39m\u001b[32m403\u001b[39m \u001b[38;5;28;43mself\u001b[39;49m\u001b[43m.\u001b[49m\u001b[43mset_markeredgewidth\u001b[49m\u001b[43m(\u001b[49m\u001b[43mmarkeredgewidth\u001b[49m\u001b[43m)\u001b[49m\n\u001b[32m    405\u001b[39m \u001b[38;5;66;03m# update kwargs before updating data to give the caller a\u001b[39;00m\n\u001b[32m    406\u001b[39m \u001b[38;5;66;03m# chance to init axes (and hence unit support)\u001b[39;00m\n\u001b[32m    407\u001b[39m \u001b[38;5;28mself\u001b[39m._internal_update(kwargs)\n",
      "\u001b[36mFile \u001b[39m\u001b[32md:\\Kevin File Documents\\Code\\everythingdata_project\\.venv\\Lib\\site-packages\\matplotlib\\lines.py:1257\u001b[39m, in \u001b[36mLine2D.set_markeredgewidth\u001b[39m\u001b[34m(self, ew)\u001b[39m\n\u001b[32m   1248\u001b[39m \u001b[38;5;250m\u001b[39m\u001b[33;03m\"\"\"\u001b[39;00m\n\u001b[32m   1249\u001b[39m \u001b[33;03mSet the marker edge width in points.\u001b[39;00m\n\u001b[32m   1250\u001b[39m \n\u001b[32m   (...)\u001b[39m\u001b[32m   1254\u001b[39m \u001b[33;03m     Marker edge width, in points.\u001b[39;00m\n\u001b[32m   1255\u001b[39m \u001b[33;03m\"\"\"\u001b[39;00m\n\u001b[32m   1256\u001b[39m \u001b[38;5;28;01mif\u001b[39;00m ew \u001b[38;5;129;01mis\u001b[39;00m \u001b[38;5;28;01mNone\u001b[39;00m:\n\u001b[32m-> \u001b[39m\u001b[32m1257\u001b[39m     ew = \u001b[43mmpl\u001b[49m\u001b[43m.\u001b[49m\u001b[43mrcParams\u001b[49m\u001b[43m[\u001b[49m\u001b[33;43m'\u001b[39;49m\u001b[33;43mlines.markeredgewidth\u001b[39;49m\u001b[33;43m'\u001b[39;49m\u001b[43m]\u001b[49m\n\u001b[32m   1258\u001b[39m \u001b[38;5;28;01mif\u001b[39;00m \u001b[38;5;28mself\u001b[39m._markeredgewidth != ew:\n\u001b[32m   1259\u001b[39m     \u001b[38;5;28mself\u001b[39m.stale = \u001b[38;5;28;01mTrue\u001b[39;00m\n",
      "\u001b[36mFile \u001b[39m\u001b[32md:\\Kevin File Documents\\Code\\everythingdata_project\\.venv\\Lib\\site-packages\\matplotlib\\__init__.py:778\u001b[39m, in \u001b[36mRcParams.__getitem__\u001b[39m\u001b[34m(self, key)\u001b[39m\n\u001b[32m    773\u001b[39m     \u001b[38;5;28;01mexcept\u001b[39;00m \u001b[38;5;167;01mKeyError\u001b[39;00m \u001b[38;5;28;01mas\u001b[39;00m err:\n\u001b[32m    774\u001b[39m         \u001b[38;5;28;01mraise\u001b[39;00m \u001b[38;5;167;01mKeyError\u001b[39;00m(\n\u001b[32m    775\u001b[39m             \u001b[33mf\u001b[39m\u001b[33m\"\u001b[39m\u001b[38;5;132;01m{\u001b[39;00mkey\u001b[38;5;132;01m}\u001b[39;00m\u001b[33m is not a valid rc parameter (see rcParams.keys() for \u001b[39m\u001b[33m\"\u001b[39m\n\u001b[32m    776\u001b[39m             \u001b[33mf\u001b[39m\u001b[33m\"\u001b[39m\u001b[33ma list of valid parameters)\u001b[39m\u001b[33m\"\u001b[39m) \u001b[38;5;28;01mfrom\u001b[39;00m\u001b[38;5;250m \u001b[39m\u001b[34;01merr\u001b[39;00m\n\u001b[32m--> \u001b[39m\u001b[32m778\u001b[39m \u001b[38;5;28;01mdef\u001b[39;00m\u001b[38;5;250m \u001b[39m\u001b[34m__getitem__\u001b[39m(\u001b[38;5;28mself\u001b[39m, key):\n\u001b[32m    779\u001b[39m     \u001b[38;5;28;01mif\u001b[39;00m key \u001b[38;5;129;01min\u001b[39;00m _deprecated_map:\n\u001b[32m    780\u001b[39m         version, alt_key, alt_val, inverse_alt = _deprecated_map[key]\n",
      "\u001b[31mKeyboardInterrupt\u001b[39m: "
     ]
    }
   ],
   "source": [
    "# sns.boxplot(x=df['Age'])\n",
    "for item in df.columns:\n",
    "    sns.boxplot(x=df[item])"
   ]
  },
  {
   "cell_type": "code",
   "execution_count": 6,
   "metadata": {},
   "outputs": [
    {
     "data": {
      "text/plain": [
       "0        2\n",
       "1        1\n",
       "2        0\n",
       "3        2\n",
       "4        2\n",
       "        ..\n",
       "49995    2\n",
       "49996    0\n",
       "49997    3\n",
       "49998    0\n",
       "49999    0\n",
       "Length: 50000, dtype: int8"
      ]
     },
     "execution_count": 6,
     "metadata": {},
     "output_type": "execute_result"
    }
   ],
   "source": [
    "df['Category'].astype('category').cat.codes"
   ]
  }
 ],
 "metadata": {
  "kernelspec": {
   "display_name": ".venv",
   "language": "python",
   "name": "python3"
  },
  "language_info": {
   "codemirror_mode": {
    "name": "ipython",
    "version": 3
   },
   "file_extension": ".py",
   "mimetype": "text/x-python",
   "name": "python",
   "nbconvert_exporter": "python",
   "pygments_lexer": "ipython3",
   "version": "3.13.2"
  }
 },
 "nbformat": 4,
 "nbformat_minor": 2
}
