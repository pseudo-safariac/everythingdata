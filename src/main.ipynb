{
 "cells": [
  {
   "cell_type": "code",
   "execution_count": 2,
   "metadata": {},
   "outputs": [],
   "source": [
    "from pathlib import Path\n",
    "import pandas as pd\n",
    "import numpy as np\n",
    "import matplotlib.pyplot as plt\n",
    "import seaborn as sns"
   ]
  },
  {
   "cell_type": "code",
   "execution_count": 3,
   "metadata": {},
   "outputs": [],
   "source": [
    "FILE_PATH: Path = Path.cwd().parent / \"data\" / \"Walmart_customer_purchases.csv\"\n",
    "# FILE_PATH: Path = Path.cwd().absolute() / \"data\" / \"Walmart_customer_purchases.csv\""
   ]
  },
  {
   "cell_type": "code",
   "execution_count": 4,
   "metadata": {},
   "outputs": [],
   "source": [
    "df = pd.read_csv(FILE_PATH, sep=\",\")"
   ]
  },
  {
   "cell_type": "code",
   "execution_count": 5,
   "metadata": {},
   "outputs": [
    {
     "data": {
      "text/html": [
       "<div>\n",
       "<style scoped>\n",
       "    .dataframe tbody tr th:only-of-type {\n",
       "        vertical-align: middle;\n",
       "    }\n",
       "\n",
       "    .dataframe tbody tr th {\n",
       "        vertical-align: top;\n",
       "    }\n",
       "\n",
       "    .dataframe thead th {\n",
       "        text-align: right;\n",
       "    }\n",
       "</style>\n",
       "<table border=\"1\" class=\"dataframe\">\n",
       "  <thead>\n",
       "    <tr style=\"text-align: right;\">\n",
       "      <th></th>\n",
       "      <th>Customer_ID</th>\n",
       "      <th>Age</th>\n",
       "      <th>Gender</th>\n",
       "      <th>City</th>\n",
       "      <th>Category</th>\n",
       "      <th>Product_Name</th>\n",
       "      <th>Purchase_Date</th>\n",
       "      <th>Purchase_Amount</th>\n",
       "      <th>Payment_Method</th>\n",
       "      <th>Discount_Applied</th>\n",
       "      <th>Rating</th>\n",
       "      <th>Repeat_Customer</th>\n",
       "    </tr>\n",
       "  </thead>\n",
       "  <tbody>\n",
       "    <tr>\n",
       "      <th>0</th>\n",
       "      <td>84607c1f-910c-44d5-b89f-e1ee06dd34c0</td>\n",
       "      <td>49</td>\n",
       "      <td>Female</td>\n",
       "      <td>New Cynthia</td>\n",
       "      <td>Electronics</td>\n",
       "      <td>Smartphone</td>\n",
       "      <td>2024-08-30</td>\n",
       "      <td>253.26</td>\n",
       "      <td>Cash on Delivery</td>\n",
       "      <td>No</td>\n",
       "      <td>1</td>\n",
       "      <td>Yes</td>\n",
       "    </tr>\n",
       "    <tr>\n",
       "      <th>1</th>\n",
       "      <td>f2a81712-a73e-4424-8b39-4c615a0bd4ea</td>\n",
       "      <td>36</td>\n",
       "      <td>Other</td>\n",
       "      <td>Cruzport</td>\n",
       "      <td>Clothing</td>\n",
       "      <td>T-Shirt</td>\n",
       "      <td>2024-12-21</td>\n",
       "      <td>73.19</td>\n",
       "      <td>Debit Card</td>\n",
       "      <td>Yes</td>\n",
       "      <td>1</td>\n",
       "      <td>No</td>\n",
       "    </tr>\n",
       "    <tr>\n",
       "      <th>2</th>\n",
       "      <td>da9be287-8b0e-4688-bccd-1a2cdd7567c6</td>\n",
       "      <td>52</td>\n",
       "      <td>Male</td>\n",
       "      <td>Jeffreytown</td>\n",
       "      <td>Beauty</td>\n",
       "      <td>Perfume</td>\n",
       "      <td>2024-12-26</td>\n",
       "      <td>125.62</td>\n",
       "      <td>Credit Card</td>\n",
       "      <td>Yes</td>\n",
       "      <td>1</td>\n",
       "      <td>No</td>\n",
       "    </tr>\n",
       "    <tr>\n",
       "      <th>3</th>\n",
       "      <td>50ec6932-3ac7-492f-9e55-4b148212f302</td>\n",
       "      <td>47</td>\n",
       "      <td>Female</td>\n",
       "      <td>Jenniferburgh</td>\n",
       "      <td>Electronics</td>\n",
       "      <td>Smartwatch</td>\n",
       "      <td>2024-11-04</td>\n",
       "      <td>450.32</td>\n",
       "      <td>Credit Card</td>\n",
       "      <td>No</td>\n",
       "      <td>2</td>\n",
       "      <td>Yes</td>\n",
       "    </tr>\n",
       "    <tr>\n",
       "      <th>4</th>\n",
       "      <td>8fdc3098-fc75-4b0f-983c-d8d8168c6362</td>\n",
       "      <td>43</td>\n",
       "      <td>Other</td>\n",
       "      <td>Kingshire</td>\n",
       "      <td>Electronics</td>\n",
       "      <td>Smartphone</td>\n",
       "      <td>2024-10-07</td>\n",
       "      <td>369.28</td>\n",
       "      <td>Credit Card</td>\n",
       "      <td>Yes</td>\n",
       "      <td>2</td>\n",
       "      <td>Yes</td>\n",
       "    </tr>\n",
       "  </tbody>\n",
       "</table>\n",
       "</div>"
      ],
      "text/plain": [
       "                            Customer_ID  Age  Gender           City  \\\n",
       "0  84607c1f-910c-44d5-b89f-e1ee06dd34c0   49  Female    New Cynthia   \n",
       "1  f2a81712-a73e-4424-8b39-4c615a0bd4ea   36   Other       Cruzport   \n",
       "2  da9be287-8b0e-4688-bccd-1a2cdd7567c6   52    Male    Jeffreytown   \n",
       "3  50ec6932-3ac7-492f-9e55-4b148212f302   47  Female  Jenniferburgh   \n",
       "4  8fdc3098-fc75-4b0f-983c-d8d8168c6362   43   Other      Kingshire   \n",
       "\n",
       "      Category Product_Name Purchase_Date  Purchase_Amount    Payment_Method  \\\n",
       "0  Electronics   Smartphone    2024-08-30           253.26  Cash on Delivery   \n",
       "1     Clothing      T-Shirt    2024-12-21            73.19        Debit Card   \n",
       "2       Beauty      Perfume    2024-12-26           125.62       Credit Card   \n",
       "3  Electronics   Smartwatch    2024-11-04           450.32       Credit Card   \n",
       "4  Electronics   Smartphone    2024-10-07           369.28       Credit Card   \n",
       "\n",
       "  Discount_Applied  Rating Repeat_Customer  \n",
       "0               No       1             Yes  \n",
       "1              Yes       1              No  \n",
       "2              Yes       1              No  \n",
       "3               No       2             Yes  \n",
       "4              Yes       2             Yes  "
      ]
     },
     "execution_count": 5,
     "metadata": {},
     "output_type": "execute_result"
    }
   ],
   "source": [
    "df.head()"
   ]
  },
  {
   "cell_type": "code",
   "execution_count": 6,
   "metadata": {},
   "outputs": [
    {
     "name": "stdout",
     "output_type": "stream",
     "text": [
      "<class 'pandas.core.frame.DataFrame'>\n",
      "RangeIndex: 50000 entries, 0 to 49999\n",
      "Data columns (total 12 columns):\n",
      " #   Column            Non-Null Count  Dtype  \n",
      "---  ------            --------------  -----  \n",
      " 0   Customer_ID       50000 non-null  object \n",
      " 1   Age               50000 non-null  int64  \n",
      " 2   Gender            50000 non-null  object \n",
      " 3   City              50000 non-null  object \n",
      " 4   Category          50000 non-null  object \n",
      " 5   Product_Name      50000 non-null  object \n",
      " 6   Purchase_Date     50000 non-null  object \n",
      " 7   Purchase_Amount   50000 non-null  float64\n",
      " 8   Payment_Method    50000 non-null  object \n",
      " 9   Discount_Applied  50000 non-null  object \n",
      " 10  Rating            50000 non-null  int64  \n",
      " 11  Repeat_Customer   50000 non-null  object \n",
      "dtypes: float64(1), int64(2), object(9)\n",
      "memory usage: 4.6+ MB\n"
     ]
    },
    {
     "data": {
      "text/html": [
       "<div>\n",
       "<style scoped>\n",
       "    .dataframe tbody tr th:only-of-type {\n",
       "        vertical-align: middle;\n",
       "    }\n",
       "\n",
       "    .dataframe tbody tr th {\n",
       "        vertical-align: top;\n",
       "    }\n",
       "\n",
       "    .dataframe thead th {\n",
       "        text-align: right;\n",
       "    }\n",
       "</style>\n",
       "<table border=\"1\" class=\"dataframe\">\n",
       "  <thead>\n",
       "    <tr style=\"text-align: right;\">\n",
       "      <th></th>\n",
       "      <th>Age</th>\n",
       "      <th>Purchase_Amount</th>\n",
       "      <th>Rating</th>\n",
       "    </tr>\n",
       "  </thead>\n",
       "  <tbody>\n",
       "    <tr>\n",
       "      <th>count</th>\n",
       "      <td>50000.000000</td>\n",
       "      <td>50000.000000</td>\n",
       "      <td>50000.000000</td>\n",
       "    </tr>\n",
       "    <tr>\n",
       "      <th>mean</th>\n",
       "      <td>38.945220</td>\n",
       "      <td>255.532230</td>\n",
       "      <td>2.998680</td>\n",
       "    </tr>\n",
       "    <tr>\n",
       "      <th>std</th>\n",
       "      <td>12.398137</td>\n",
       "      <td>141.574416</td>\n",
       "      <td>1.417956</td>\n",
       "    </tr>\n",
       "    <tr>\n",
       "      <th>min</th>\n",
       "      <td>18.000000</td>\n",
       "      <td>10.010000</td>\n",
       "      <td>1.000000</td>\n",
       "    </tr>\n",
       "    <tr>\n",
       "      <th>25%</th>\n",
       "      <td>28.000000</td>\n",
       "      <td>133.050000</td>\n",
       "      <td>2.000000</td>\n",
       "    </tr>\n",
       "    <tr>\n",
       "      <th>50%</th>\n",
       "      <td>39.000000</td>\n",
       "      <td>255.045000</td>\n",
       "      <td>3.000000</td>\n",
       "    </tr>\n",
       "    <tr>\n",
       "      <th>75%</th>\n",
       "      <td>50.000000</td>\n",
       "      <td>378.912500</td>\n",
       "      <td>4.000000</td>\n",
       "    </tr>\n",
       "    <tr>\n",
       "      <th>max</th>\n",
       "      <td>60.000000</td>\n",
       "      <td>499.990000</td>\n",
       "      <td>5.000000</td>\n",
       "    </tr>\n",
       "  </tbody>\n",
       "</table>\n",
       "</div>"
      ],
      "text/plain": [
       "                Age  Purchase_Amount        Rating\n",
       "count  50000.000000     50000.000000  50000.000000\n",
       "mean      38.945220       255.532230      2.998680\n",
       "std       12.398137       141.574416      1.417956\n",
       "min       18.000000        10.010000      1.000000\n",
       "25%       28.000000       133.050000      2.000000\n",
       "50%       39.000000       255.045000      3.000000\n",
       "75%       50.000000       378.912500      4.000000\n",
       "max       60.000000       499.990000      5.000000"
      ]
     },
     "execution_count": 6,
     "metadata": {},
     "output_type": "execute_result"
    }
   ],
   "source": [
    "df.info()\n",
    "df.describe()"
   ]
  },
  {
   "cell_type": "code",
   "execution_count": 7,
   "metadata": {},
   "outputs": [
    {
     "data": {
      "text/plain": [
       "Customer_ID         0\n",
       "Age                 0\n",
       "Gender              0\n",
       "City                0\n",
       "Category            0\n",
       "Product_Name        0\n",
       "Purchase_Date       0\n",
       "Purchase_Amount     0\n",
       "Payment_Method      0\n",
       "Discount_Applied    0\n",
       "Rating              0\n",
       "Repeat_Customer     0\n",
       "dtype: int64"
      ]
     },
     "execution_count": 7,
     "metadata": {},
     "output_type": "execute_result"
    }
   ],
   "source": [
    "df.isna().sum()"
   ]
  },
  {
   "cell_type": "code",
   "execution_count": 8,
   "metadata": {},
   "outputs": [
    {
     "data": {
      "text/plain": [
       "Customer_ID         False\n",
       "Age                 False\n",
       "Gender              False\n",
       "City                False\n",
       "Category            False\n",
       "Product_Name        False\n",
       "Purchase_Date       False\n",
       "Purchase_Amount     False\n",
       "Payment_Method      False\n",
       "Discount_Applied    False\n",
       "Rating              False\n",
       "Repeat_Customer     False\n",
       "dtype: bool"
      ]
     },
     "execution_count": 8,
     "metadata": {},
     "output_type": "execute_result"
    }
   ],
   "source": [
    "df.isnull().any()"
   ]
  },
  {
   "cell_type": "code",
   "execution_count": 9,
   "metadata": {},
   "outputs": [
    {
     "data": {
      "text/plain": [
       "array([[<Axes: title={'center': 'Age'}>,\n",
       "        <Axes: title={'center': 'Rating'}>],\n",
       "       [<Axes: title={'center': 'Purchase_Amount'}>, <Axes: >]],\n",
       "      dtype=object)"
      ]
     },
     "execution_count": 9,
     "metadata": {},
     "output_type": "execute_result"
    },
    {
     "data": {
      "image/png": "[encoded data removed]",
      "text/plain": [
       "<Figure size 640x480 with 4 Axes>"
      ]
     },
     "metadata": {},
     "output_type": "display_data"
    }
   ],
   "source": [
    "df[['Age', 'Rating', 'Purchase_Amount']].hist()"
   ]
  },
  {
   "cell_type": "code",
   "execution_count": 10,
   "metadata": {},
   "outputs": [
    {
     "data": {
      "text/html": [
       "<div>\n",
       "<style scoped>\n",
       "    .dataframe tbody tr th:only-of-type {\n",
       "        vertical-align: middle;\n",
       "    }\n",
       "\n",
       "    .dataframe tbody tr th {\n",
       "        vertical-align: top;\n",
       "    }\n",
       "\n",
       "    .dataframe thead th {\n",
       "        text-align: right;\n",
       "    }\n",
       "</style>\n",
       "<table border=\"1\" class=\"dataframe\">\n",
       "  <thead>\n",
       "    <tr style=\"text-align: right;\">\n",
       "      <th></th>\n",
       "      <th>Customer_ID</th>\n",
       "      <th>Gender</th>\n",
       "      <th>City</th>\n",
       "      <th>Category</th>\n",
       "      <th>Product_Name</th>\n",
       "      <th>Purchase_Date</th>\n",
       "      <th>Payment_Method</th>\n",
       "      <th>Discount_Applied</th>\n",
       "      <th>Repeat_Customer</th>\n",
       "    </tr>\n",
       "  </thead>\n",
       "  <tbody>\n",
       "    <tr>\n",
       "      <th>count</th>\n",
       "      <td>50000</td>\n",
       "      <td>50000</td>\n",
       "      <td>50000</td>\n",
       "      <td>50000</td>\n",
       "      <td>50000</td>\n",
       "      <td>50000</td>\n",
       "      <td>50000</td>\n",
       "      <td>50000</td>\n",
       "      <td>50000</td>\n",
       "    </tr>\n",
       "    <tr>\n",
       "      <th>unique</th>\n",
       "      <td>50000</td>\n",
       "      <td>3</td>\n",
       "      <td>25096</td>\n",
       "      <td>4</td>\n",
       "      <td>16</td>\n",
       "      <td>366</td>\n",
       "      <td>4</td>\n",
       "      <td>2</td>\n",
       "      <td>2</td>\n",
       "    </tr>\n",
       "    <tr>\n",
       "      <th>top</th>\n",
       "      <td>84607c1f-910c-44d5-b89f-e1ee06dd34c0</td>\n",
       "      <td>Other</td>\n",
       "      <td>New Michael</td>\n",
       "      <td>Electronics</td>\n",
       "      <td>Headphones</td>\n",
       "      <td>2024-12-25</td>\n",
       "      <td>Debit Card</td>\n",
       "      <td>No</td>\n",
       "      <td>Yes</td>\n",
       "    </tr>\n",
       "    <tr>\n",
       "      <th>freq</th>\n",
       "      <td>1</td>\n",
       "      <td>16751</td>\n",
       "      <td>44</td>\n",
       "      <td>12642</td>\n",
       "      <td>3261</td>\n",
       "      <td>171</td>\n",
       "      <td>12589</td>\n",
       "      <td>25018</td>\n",
       "      <td>25244</td>\n",
       "    </tr>\n",
       "  </tbody>\n",
       "</table>\n",
       "</div>"
      ],
      "text/plain": [
       "                                 Customer_ID Gender         City     Category  \\\n",
       "count                                  50000  50000        50000        50000   \n",
       "unique                                 50000      3        25096            4   \n",
       "top     84607c1f-910c-44d5-b89f-e1ee06dd34c0  Other  New Michael  Electronics   \n",
       "freq                                       1  16751           44        12642   \n",
       "\n",
       "       Product_Name Purchase_Date Payment_Method Discount_Applied  \\\n",
       "count         50000         50000          50000            50000   \n",
       "unique           16           366              4                2   \n",
       "top      Headphones    2024-12-25     Debit Card               No   \n",
       "freq           3261           171          12589            25018   \n",
       "\n",
       "       Repeat_Customer  \n",
       "count            50000  \n",
       "unique               2  \n",
       "top                Yes  \n",
       "freq             25244  "
      ]
     },
     "execution_count": 10,
     "metadata": {},
     "output_type": "execute_result"
    }
   ],
   "source": [
    "df.describe(include='object')"
   ]
  },
  {
   "cell_type": "code",
   "execution_count": 11,
   "metadata": {},
   "outputs": [
    {
     "name": "stdout",
     "output_type": "stream",
     "text": [
      "['Female' 'Other' 'Male']\n",
      "['Electronics' 'Clothing' 'Beauty' 'Home']\n",
      "['Smartphone' 'T-Shirt' 'Perfume' 'Smartwatch' 'Laptop' 'Sofa Cover'\n",
      " 'Shampoo' 'Cookware' 'Curtains' 'Jeans' 'Headphones' 'Jacket'\n",
      " 'Face Cream' 'Lipstick' 'Lamp' 'Dress']\n",
      "['Cash on Delivery' 'Debit Card' 'Credit Card' 'UPI']\n",
      "['No' 'Yes']\n",
      "['Yes' 'No']\n"
     ]
    }
   ],
   "source": [
    "df['Gender'].unique()\n",
    "\n",
    "for item in ['Gender', 'Category', 'Product_Name', 'Payment_Method', 'Discount_Applied', \"Repeat_Customer\"]:\n",
    "    print(df[item].unique())"
   ]
  },
  {
   "cell_type": "code",
   "execution_count": 12,
   "metadata": {},
   "outputs": [
    {
     "data": {
      "text/plain": [
       "0            1\n",
       "1            2\n",
       "2            3\n",
       "3            4\n",
       "4            5\n",
       "         ...  \n",
       "49995    49996\n",
       "49996    49997\n",
       "49997    49998\n",
       "49998    49999\n",
       "49999    50000\n",
       "Name: id, Length: 50000, dtype: int64"
      ]
     },
     "execution_count": 12,
     "metadata": {},
     "output_type": "execute_result"
    }
   ],
   "source": [
    "df = df.copy()\n",
    "df['id'] = df.index + 1\n",
    "df['id']"
   ]
  },
  {
   "cell_type": "code",
   "execution_count": 13,
   "metadata": {},
   "outputs": [],
   "source": [
    "df.set_index('id', inplace=True)"
   ]
  },
  {
   "cell_type": "code",
   "execution_count": 14,
   "metadata": {},
   "outputs": [
    {
     "data": {
      "text/plain": [
       "id\n",
       "1    2024-08-30\n",
       "2    2024-12-21\n",
       "3    2024-12-26\n",
       "4    2024-11-04\n",
       "5    2024-10-07\n",
       "Name: Purchase_Date, dtype: object"
      ]
     },
     "execution_count": 14,
     "metadata": {},
     "output_type": "execute_result"
    }
   ],
   "source": [
    "df['Purchase_Date'].head()"
   ]
  },
  {
   "cell_type": "code",
   "execution_count": 15,
   "metadata": {},
   "outputs": [
    {
     "data": {
      "text/plain": [
       "dtype('<M8[ns]')"
      ]
     },
     "execution_count": 15,
     "metadata": {},
     "output_type": "execute_result"
    }
   ],
   "source": [
    "df['Purchase_Date'] = pd.to_datetime(df['Purchase_Date'])\n",
    "df['Purchase_Date'].dtype"
   ]
  },
  {
   "cell_type": "code",
   "execution_count": 16,
   "metadata": {},
   "outputs": [
    {
     "data": {
      "text/plain": [
       "<DatetimeArray>\n",
       "['2024-12-21 00:00:00', '2024-12-26 00:00:00', '2024-03-16 00:00:00',\n",
       " '2024-09-27 00:00:00', '2024-06-15 00:00:00', '2024-10-25 00:00:00',\n",
       " '2024-04-09 00:00:00', '2024-12-19 00:00:00', '2024-05-21 00:00:00',\n",
       " '2024-08-03 00:00:00',\n",
       " ...\n",
       " '2024-06-12 00:00:00', '2024-09-22 00:00:00', '2024-08-21 00:00:00',\n",
       " '2024-09-16 00:00:00', '2024-02-29 00:00:00', '2024-08-23 00:00:00',\n",
       " '2024-12-29 00:00:00', '2024-05-18 00:00:00', '2024-10-06 00:00:00',\n",
       " '2024-10-31 00:00:00']\n",
       "Length: 366, dtype: datetime64[ns]"
      ]
     },
     "execution_count": 16,
     "metadata": {},
     "output_type": "execute_result"
    }
   ],
   "source": [
    "df['Purchase_Date'].describe()\n",
    "df['Purchase_Date'][df['Purchase_Date'].duplicated()].unique()\n"
   ]
  },
  {
   "cell_type": "markdown",
   "metadata": {},
   "source": [
    "Now checking each individual item on my df to ensure that they have the right spread and dont have outliers or other odd data in it"
   ]
  },
  {
   "cell_type": "code",
   "execution_count": 17,
   "metadata": {},
   "outputs": [
    {
     "data": {
      "text/plain": [
       "<Axes: ylabel='Frequency'>"
      ]
     },
     "execution_count": 17,
     "metadata": {},
     "output_type": "execute_result"
    },
    {
     "data": {
      "image/png": "[encoded data removed]",
      "text/plain": [
       "<Figure size 640x480 with 1 Axes>"
      ]
     },
     "metadata": {},
     "output_type": "display_data"
    }
   ],
   "source": [
    "df['Age'].plot.hist(bins=50)"
   ]
  },
  {
   "cell_type": "code",
   "execution_count": 18,
   "metadata": {},
   "outputs": [
    {
     "data": {
      "text/plain": [
       "<Axes: xlabel='Age'>"
      ]
     },
     "execution_count": 18,
     "metadata": {},
     "output_type": "execute_result"
    },
    {
     "data": {
      "image/png": "[encoded data removed]",
      "text/plain": [
       "<Figure size 640x480 with 1 Axes>"
      ]
     },
     "metadata": {},
     "output_type": "display_data"
    }
   ],
   "source": [
    "sns.boxplot(x=df['Age'])"
   ]
  },
  {
   "cell_type": "code",
   "execution_count": 19,
   "metadata": {},
   "outputs": [
    {
     "data": {
      "text/plain": [
       "<Axes: xlabel='Rating'>"
      ]
     },
     "execution_count": 19,
     "metadata": {},
     "output_type": "execute_result"
    },
    {
     "data": {
      "image/png": "[encoded data removed]",
      "text/plain": [
       "<Figure size 640x480 with 1 Axes>"
      ]
     },
     "metadata": {},
     "output_type": "display_data"
    }
   ],
   "source": [
    "sns.boxplot(x=df['Rating'])"
   ]
  },
  {
   "cell_type": "code",
   "execution_count": 20,
   "metadata": {},
   "outputs": [
    {
     "data": {
      "text/plain": [
       "<Axes: xlabel='Purchase_Amount'>"
      ]
     },
     "execution_count": 20,
     "metadata": {},
     "output_type": "execute_result"
    },
    {
     "data": {
      "image/png": "[encoded data removed]",
      "text/plain": [
       "<Figure size 640x480 with 1 Axes>"
      ]
     },
     "metadata": {},
     "output_type": "display_data"
    }
   ],
   "source": [
    "sns.boxplot(x=df['Purchase_Amount'])"
   ]
  },
  {
   "cell_type": "code",
   "execution_count": 21,
   "metadata": {},
   "outputs": [
    {
     "data": {
      "text/plain": [
       "Index(['Customer_ID', 'Age', 'Gender', 'City', 'Category', 'Product_Name',\n",
       "       'Purchase_Date', 'Purchase_Amount', 'Payment_Method',\n",
       "       'Discount_Applied', 'Rating', 'Repeat_Customer'],\n",
       "      dtype='object')"
      ]
     },
     "execution_count": 21,
     "metadata": {},
     "output_type": "execute_result"
    }
   ],
   "source": [
    "df.columns"
   ]
  },
  {
   "cell_type": "code",
   "execution_count": 22,
   "metadata": {},
   "outputs": [
    {
     "name": "stderr",
     "output_type": "stream",
     "text": [
      "/tmp/ipykernel_906083/3200370401.py:8: FutureWarning: Downcasting behavior in `replace` is deprecated and will be removed in a future version. To retain the old behavior, explicitly call `result.infer_objects(copy=False)`. To opt-in to the future behavior, set `pd.set_option('future.no_silent_downcasting', True)`\n",
      "  df['Category'] = df['Category'].replace(category_mapping)\n"
     ]
    },
    {
     "data": {
      "text/plain": [
       "array([0, 1, 2, 3])"
      ]
     },
     "execution_count": 22,
     "metadata": {},
     "output_type": "execute_result"
    }
   ],
   "source": [
    "category_mapping = {\n",
    "    \"Electronics\": 0,\n",
    "    \"Clothing\": 1,\n",
    "    \"Beauty\": 2,\n",
    "    \"Home\": 3\n",
    "}\n",
    "\n",
    "df['Category'] = df['Category'].replace(category_mapping)\n",
    "df['Category'].unique()"
   ]
  },
  {
   "cell_type": "code",
   "execution_count": 23,
   "metadata": {},
   "outputs": [
    {
     "name": "stderr",
     "output_type": "stream",
     "text": [
      "/tmp/ipykernel_906083/2278414574.py:7: FutureWarning: Downcasting behavior in `replace` is deprecated and will be removed in a future version. To retain the old behavior, explicitly call `result.infer_objects(copy=False)`. To opt-in to the future behavior, set `pd.set_option('future.no_silent_downcasting', True)`\n",
      "  df['Gender'] = df['Gender'].replace(gender_mapping)\n"
     ]
    },
    {
     "data": {
      "text/plain": [
       "array([0, 2, 1])"
      ]
     },
     "execution_count": 23,
     "metadata": {},
     "output_type": "execute_result"
    }
   ],
   "source": [
    "gender_mapping = {\n",
    "    \"Female\": 0,\n",
    "    \"Male\": 1,\n",
    "    \"Other\": 2\n",
    "}\n",
    "\n",
    "df['Gender'] = df['Gender'].replace(gender_mapping)\n",
    "df['Gender'].unique()"
   ]
  },
  {
   "cell_type": "code",
   "execution_count": 24,
   "metadata": {},
   "outputs": [
    {
     "name": "stderr",
     "output_type": "stream",
     "text": [
      "/tmp/ipykernel_906083/1211768212.py:8: FutureWarning: Downcasting behavior in `replace` is deprecated and will be removed in a future version. To retain the old behavior, explicitly call `result.infer_objects(copy=False)`. To opt-in to the future behavior, set `pd.set_option('future.no_silent_downcasting', True)`\n",
      "  df[column] = df[column].replace(payment_mapping)\n"
     ]
    },
    {
     "data": {
      "text/plain": [
       "array([0, 1, 2, 3])"
      ]
     },
     "execution_count": 24,
     "metadata": {},
     "output_type": "execute_result"
    }
   ],
   "source": [
    "payment_mapping = {\n",
    "    \"Cash on Delivery\": 0,\n",
    "    \"Debit Card\": 1,\n",
    "    \"Credit Card\": 2,\n",
    "    \"UPI\": 3\n",
    "}\n",
    "column = 'Payment_Method'\n",
    "df[column] = df[column].replace(payment_mapping)\n",
    "df[column].unique()"
   ]
  },
  {
   "cell_type": "code",
   "execution_count": 25,
   "metadata": {},
   "outputs": [
    {
     "name": "stderr",
     "output_type": "stream",
     "text": [
      "/tmp/ipykernel_906083/880665709.py:6: FutureWarning: Downcasting behavior in `replace` is deprecated and will be removed in a future version. To retain the old behavior, explicitly call `result.infer_objects(copy=False)`. To opt-in to the future behavior, set `pd.set_option('future.no_silent_downcasting', True)`\n",
      "  df[column] = df[column].replace(discount_mapping)\n"
     ]
    },
    {
     "data": {
      "text/plain": [
       "array([0, 1])"
      ]
     },
     "execution_count": 25,
     "metadata": {},
     "output_type": "execute_result"
    }
   ],
   "source": [
    "discount_mapping = {\n",
    "    \"No\": 0,\n",
    "    \"Yes\": 1\n",
    "}\n",
    "column = 'Discount_Applied'\n",
    "df[column] = df[column].replace(discount_mapping)\n",
    "df[column].unique()"
   ]
  },
  {
   "cell_type": "code",
   "execution_count": 26,
   "metadata": {},
   "outputs": [
    {
     "name": "stderr",
     "output_type": "stream",
     "text": [
      "/tmp/ipykernel_906083/3668910646.py:6: FutureWarning: Downcasting behavior in `replace` is deprecated and will be removed in a future version. To retain the old behavior, explicitly call `result.infer_objects(copy=False)`. To opt-in to the future behavior, set `pd.set_option('future.no_silent_downcasting', True)`\n",
      "  df[column] = df[column].replace(repeat_mapping)\n"
     ]
    },
    {
     "data": {
      "text/plain": [
       "array([1, 0])"
      ]
     },
     "execution_count": 26,
     "metadata": {},
     "output_type": "execute_result"
    }
   ],
   "source": [
    "repeat_mapping = {\n",
    "    \"No\": 0,\n",
    "    \"Yes\": 1\n",
    "}\n",
    "column = 'Repeat_Customer'\n",
    "df[column] = df[column].replace(repeat_mapping)\n",
    "df[column].unique()"
   ]
  },
  {
   "cell_type": "code",
   "execution_count": 27,
   "metadata": {},
   "outputs": [
    {
     "name": "stdout",
     "output_type": "stream",
     "text": [
      "<class 'pandas.core.frame.DataFrame'>\n",
      "Index: 50000 entries, 1 to 50000\n",
      "Data columns (total 12 columns):\n",
      " #   Column            Non-Null Count  Dtype         \n",
      "---  ------            --------------  -----         \n",
      " 0   Customer_ID       50000 non-null  object        \n",
      " 1   Age               50000 non-null  int64         \n",
      " 2   Gender            50000 non-null  int64         \n",
      " 3   City              50000 non-null  object        \n",
      " 4   Category          50000 non-null  int64         \n",
      " 5   Product_Name      50000 non-null  object        \n",
      " 6   Purchase_Date     50000 non-null  datetime64[ns]\n",
      " 7   Purchase_Amount   50000 non-null  float64       \n",
      " 8   Payment_Method    50000 non-null  int64         \n",
      " 9   Discount_Applied  50000 non-null  int64         \n",
      " 10  Rating            50000 non-null  int64         \n",
      " 11  Repeat_Customer   50000 non-null  int64         \n",
      "dtypes: datetime64[ns](1), float64(1), int64(7), object(3)\n",
      "memory usage: 5.0+ MB\n"
     ]
    }
   ],
   "source": [
    "df.info()"
   ]
  },
  {
   "cell_type": "markdown",
   "metadata": {},
   "source": [
    "#### Get the Shopper Demographics\n",
    "Get what demographic shops the most products and categorize it by City"
   ]
  },
  {
   "cell_type": "code",
   "execution_count": 28,
   "metadata": {},
   "outputs": [],
   "source": [
    "gender_pivot_by_age_with_amount= pd.pivot_table(df,\n",
    "        index='Gender',\n",
    "        columns=['Age'],\n",
    "        values='Purchase_Amount',\n",
    "        # aggfunc={'Age':'mean'}\n",
    ")"
   ]
  },
  {
   "cell_type": "code",
   "execution_count": 29,
   "metadata": {},
   "outputs": [
    {
     "data": {
      "text/plain": [
       "<Axes: xlabel='Age'>"
      ]
     },
     "execution_count": 29,
     "metadata": {},
     "output_type": "execute_result"
    },
    {
     "data": {
      "image/png": "[encoded data removed]",
      "text/plain": [
       "<Figure size 640x480 with 1 Axes>"
      ]
     },
     "metadata": {},
     "output_type": "display_data"
    }
   ],
   "source": [
    "gender_pivot_by_age_with_amount.T.plot.line()\n",
    "# Transposed it so that I can have only 3 genders vs Purchase Amount"
   ]
  },
  {
   "cell_type": "code",
   "execution_count": 39,
   "metadata": {},
   "outputs": [
    {
     "data": {
      "image/png": "[encoded data removed]",
      "text/plain": [
       "<Figure size 640x480 with 1 Axes>"
      ]
     },
     "metadata": {},
     "output_type": "display_data"
    }
   ],
   "source": [
    "df['Gender'].value_counts().plot(kind='pie', autopct='%1.1f%%')\n",
    "plt.title(\"Customers by Gender\")\n",
    "plt.show()"
   ]
  },
  {
   "cell_type": "markdown",
   "metadata": {},
   "source": [
    "Show how many which age group used which payment method"
   ]
  },
  {
   "cell_type": "code",
   "execution_count": null,
   "metadata": {},
   "outputs": [],
   "source": [
    "\n"
   ]
  }
 ],
 "metadata": {
  "kernelspec": {
   "display_name": ".venv",
   "language": "python",
   "name": "python3"
  },
  "language_info": {
   "codemirror_mode": {
    "name": "ipython",
    "version": 3
   },
   "file_extension": ".py",
   "mimetype": "text/x-python",
   "name": "python",
   "nbconvert_exporter": "python",
   "pygments_lexer": "ipython3",
   "version": "3.13.2"
  }
 },
 "nbformat": 4,
 "nbformat_minor": 2
}
